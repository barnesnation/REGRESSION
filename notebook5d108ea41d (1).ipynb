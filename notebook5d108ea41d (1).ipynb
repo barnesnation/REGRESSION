{
 "cells": [
  {
   "cell_type": "code",
   "execution_count": 1,
   "id": "a7a19910",
   "metadata": {
    "_cell_guid": "b1076dfc-b9ad-4769-8c92-a6c4dae69d19",
    "_uuid": "8f2839f25d086af736a60e9eeb907d3b93b6e0e5",
    "execution": {
     "iopub.execute_input": "2024-06-21T08:06:27.156210Z",
     "iopub.status.busy": "2024-06-21T08:06:27.155792Z",
     "iopub.status.idle": "2024-06-21T08:06:28.166299Z",
     "shell.execute_reply": "2024-06-21T08:06:28.165033Z"
    },
    "papermill": {
     "duration": 1.022212,
     "end_time": "2024-06-21T08:06:28.169334",
     "exception": false,
     "start_time": "2024-06-21T08:06:27.147122",
     "status": "completed"
    },
    "tags": []
   },
   "outputs": [
    {
     "name": "stdout",
     "output_type": "stream",
     "text": [
      "/kaggle/input/alx-movie-recommendation-project-2024/sample_submission.csv\n",
      "/kaggle/input/alx-movie-recommendation-project-2024/movies.csv\n",
      "/kaggle/input/alx-movie-recommendation-project-2024/imdb_data.csv\n",
      "/kaggle/input/alx-movie-recommendation-project-2024/genome_tags.csv\n",
      "/kaggle/input/alx-movie-recommendation-project-2024/genome_scores.csv\n",
      "/kaggle/input/alx-movie-recommendation-project-2024/train.csv\n",
      "/kaggle/input/alx-movie-recommendation-project-2024/test.csv\n",
      "/kaggle/input/alx-movie-recommendation-project-2024/tags.csv\n",
      "/kaggle/input/alx-movie-recommendation-project-2024/links.csv\n"
     ]
    }
   ],
   "source": [
    "# This Python 3 environment comes with many helpful analytics libraries installed\n",
    "# It is defined by the kaggle/python Docker image: https://github.com/kaggle/docker-python\n",
    "# For example, here's several helpful packages to load\n",
    "\n",
    "import numpy as np # linear algebra\n",
    "import pandas as pd # data processing, CSV file I/O (e.g. pd.read_csv)\n",
    "\n",
    "# Input data files are available in the read-only \"../input/\" directory\n",
    "# For example, running this (by clicking run or pressing Shift+Enter) will list all files under the input directory\n",
    "\n",
    "import os\n",
    "for dirname, _, filenames in os.walk('/kaggle/input'):\n",
    "    for filename in filenames:\n",
    "        print(os.path.join(dirname, filename))\n",
    "\n",
    "# You can write up to 20GB to the current directory (/kaggle/working/) that gets preserved as output when you create a version using \"Save & Run All\" \n",
    "# You can also write temporary files to /kaggle/temp/, but they won't be saved outside of the current session"
   ]
  },
  {
   "cell_type": "code",
   "execution_count": 2,
   "id": "a963c9af",
   "metadata": {
    "execution": {
     "iopub.execute_input": "2024-06-21T08:06:28.184743Z",
     "iopub.status.busy": "2024-06-21T08:06:28.184182Z",
     "iopub.status.idle": "2024-06-21T08:06:30.405908Z",
     "shell.execute_reply": "2024-06-21T08:06:30.403872Z"
    },
    "papermill": {
     "duration": 2.232703,
     "end_time": "2024-06-21T08:06:30.409010",
     "exception": false,
     "start_time": "2024-06-21T08:06:28.176307",
     "status": "completed"
    },
    "tags": []
   },
   "outputs": [],
   "source": [
    "# Install packages here\n",
    "# Packages for data processing\n",
    "import numpy as np\n",
    "import pandas as pd\n",
    "import datetime\n",
    "from sklearn import preprocessing\n",
    "from sklearn.datasets import make_blobs\n",
    "from sklearn.preprocessing import StandardScaler\n",
    "from sklearn.feature_extraction.text import TfidfVectorizer\n",
    "from sklearn.metrics.pairwise import cosine_similarity\n",
    "import re\n",
    "from scipy.sparse import csr_matrix\n",
    "import scipy as sp\n",
    "\n",
    "\n",
    "# Packages for visualization\n",
    "import matplotlib.pyplot as plt\n",
    "import seaborn as sns\n",
    "%matplotlib inline\n",
    "\n",
    "# Packages for modeling\n",
    "from surprise import Reader\n",
    "from surprise import Dataset\n",
    "from surprise import KNNWithMeans\n",
    "from surprise import KNNBasic\n",
    "from surprise.model_selection import cross_validate\n",
    "from surprise.model_selection import GridSearchCV\n",
    "from surprise import SVD\n",
    "from surprise import SVDpp\n",
    "from surprise import NMF\n",
    "from surprise import SlopeOne\n",
    "from surprise import CoClustering\n",
    "import heapq\n",
    "\n",
    "# Packages for model evaluation\n",
    "from sklearn.metrics import mean_squared_error\n",
    "from sklearn.metrics import mean_absolute_error\n",
    "from time import time\n",
    "\n",
    "# Package to suppress warnings\n",
    "import warnings\n",
    "warnings.filterwarnings(\"ignore\")\n",
    "\n",
    "# Packages for saving models\n",
    "import pickle"
   ]
  },
  {
   "cell_type": "code",
   "execution_count": 3,
   "id": "00a6a2f1",
   "metadata": {
    "execution": {
     "iopub.execute_input": "2024-06-21T08:06:30.424953Z",
     "iopub.status.busy": "2024-06-21T08:06:30.424317Z",
     "iopub.status.idle": "2024-06-21T08:06:58.371022Z",
     "shell.execute_reply": "2024-06-21T08:06:58.369804Z"
    },
    "papermill": {
     "duration": 27.957866,
     "end_time": "2024-06-21T08:06:58.374059",
     "exception": false,
     "start_time": "2024-06-21T08:06:30.416193",
     "status": "completed"
    },
    "tags": []
   },
   "outputs": [],
   "source": [
    "train_df = pd.read_csv('/kaggle/input/alx-movie-recommendation-project-2024/train.csv')\n",
    "movies_df = pd.read_csv('/kaggle/input/alx-movie-recommendation-project-2024/movies.csv')\n",
    "imdb_df = pd.read_csv('/kaggle/input/alx-movie-recommendation-project-2024/imdb_data.csv')\n",
    "test_df = pd.read_csv('/kaggle/input/alx-movie-recommendation-project-2024/test.csv')\n",
    "links_df = pd.read_csv('/kaggle/input/alx-movie-recommendation-project-2024/links.csv')\n",
    "tags = pd.read_csv('/kaggle/input/alx-movie-recommendation-project-2024/tags.csv')\n",
    "genome_scores = pd.read_csv('/kaggle/input/alx-movie-recommendation-project-2024/genome_scores.csv')\n",
    "genome_tags = pd.read_csv('/kaggle/input/alx-movie-recommendation-project-2024/genome_tags.csv')\n",
    "sample_submissions = pd.read_csv('/kaggle/input/alx-movie-recommendation-project-2024/sample_submission.csv')"
   ]
  },
  {
   "cell_type": "code",
   "execution_count": 4,
   "id": "83e1bdc3",
   "metadata": {
    "execution": {
     "iopub.execute_input": "2024-06-21T08:06:58.390383Z",
     "iopub.status.busy": "2024-06-21T08:06:58.389916Z",
     "iopub.status.idle": "2024-06-21T08:06:58.416389Z",
     "shell.execute_reply": "2024-06-21T08:06:58.415054Z"
    },
    "papermill": {
     "duration": 0.039348,
     "end_time": "2024-06-21T08:06:58.420356",
     "exception": false,
     "start_time": "2024-06-21T08:06:58.381008",
     "status": "completed"
    },
    "tags": []
   },
   "outputs": [
    {
     "data": {
      "text/html": [
       "<div>\n",
       "<style scoped>\n",
       "    .dataframe tbody tr th:only-of-type {\n",
       "        vertical-align: middle;\n",
       "    }\n",
       "\n",
       "    .dataframe tbody tr th {\n",
       "        vertical-align: top;\n",
       "    }\n",
       "\n",
       "    .dataframe thead th {\n",
       "        text-align: right;\n",
       "    }\n",
       "</style>\n",
       "<table border=\"1\" class=\"dataframe\">\n",
       "  <thead>\n",
       "    <tr style=\"text-align: right;\">\n",
       "      <th></th>\n",
       "      <th>movieId</th>\n",
       "      <th>title</th>\n",
       "      <th>genres</th>\n",
       "    </tr>\n",
       "  </thead>\n",
       "  <tbody>\n",
       "    <tr>\n",
       "      <th>0</th>\n",
       "      <td>1</td>\n",
       "      <td>Toy Story (1995)</td>\n",
       "      <td>Adventure|Animation|Children|Comedy|Fantasy</td>\n",
       "    </tr>\n",
       "    <tr>\n",
       "      <th>1</th>\n",
       "      <td>2</td>\n",
       "      <td>Jumanji (1995)</td>\n",
       "      <td>Adventure|Children|Fantasy</td>\n",
       "    </tr>\n",
       "    <tr>\n",
       "      <th>2</th>\n",
       "      <td>3</td>\n",
       "      <td>Grumpier Old Men (1995)</td>\n",
       "      <td>Comedy|Romance</td>\n",
       "    </tr>\n",
       "    <tr>\n",
       "      <th>3</th>\n",
       "      <td>4</td>\n",
       "      <td>Waiting to Exhale (1995)</td>\n",
       "      <td>Comedy|Drama|Romance</td>\n",
       "    </tr>\n",
       "    <tr>\n",
       "      <th>4</th>\n",
       "      <td>5</td>\n",
       "      <td>Father of the Bride Part II (1995)</td>\n",
       "      <td>Comedy</td>\n",
       "    </tr>\n",
       "  </tbody>\n",
       "</table>\n",
       "</div>"
      ],
      "text/plain": [
       "   movieId                               title  \\\n",
       "0        1                    Toy Story (1995)   \n",
       "1        2                      Jumanji (1995)   \n",
       "2        3             Grumpier Old Men (1995)   \n",
       "3        4            Waiting to Exhale (1995)   \n",
       "4        5  Father of the Bride Part II (1995)   \n",
       "\n",
       "                                        genres  \n",
       "0  Adventure|Animation|Children|Comedy|Fantasy  \n",
       "1                   Adventure|Children|Fantasy  \n",
       "2                               Comedy|Romance  \n",
       "3                         Comedy|Drama|Romance  \n",
       "4                                       Comedy  "
      ]
     },
     "execution_count": 4,
     "metadata": {},
     "output_type": "execute_result"
    }
   ],
   "source": [
    "movies_df.head()"
   ]
  },
  {
   "cell_type": "code",
   "execution_count": 5,
   "id": "4b11ea42",
   "metadata": {
    "execution": {
     "iopub.execute_input": "2024-06-21T08:06:58.436707Z",
     "iopub.status.busy": "2024-06-21T08:06:58.436225Z",
     "iopub.status.idle": "2024-06-21T08:06:58.444439Z",
     "shell.execute_reply": "2024-06-21T08:06:58.443308Z"
    },
    "papermill": {
     "duration": 0.019622,
     "end_time": "2024-06-21T08:06:58.447285",
     "exception": false,
     "start_time": "2024-06-21T08:06:58.427663",
     "status": "completed"
    },
    "tags": []
   },
   "outputs": [
    {
     "data": {
      "text/plain": [
       "(62423, 3)"
      ]
     },
     "execution_count": 5,
     "metadata": {},
     "output_type": "execute_result"
    }
   ],
   "source": [
    "movies_df.shape"
   ]
  },
  {
   "cell_type": "code",
   "execution_count": 6,
   "id": "93c3f511",
   "metadata": {
    "execution": {
     "iopub.execute_input": "2024-06-21T08:06:58.462801Z",
     "iopub.status.busy": "2024-06-21T08:06:58.462378Z",
     "iopub.status.idle": "2024-06-21T08:06:59.039841Z",
     "shell.execute_reply": "2024-06-21T08:06:59.038644Z"
    },
    "papermill": {
     "duration": 0.588442,
     "end_time": "2024-06-21T08:06:59.042744",
     "exception": false,
     "start_time": "2024-06-21T08:06:58.454302",
     "status": "completed"
    },
    "tags": []
   },
   "outputs": [],
   "source": [
    "sampled_df = train_df.sample(n=400000)"
   ]
  },
  {
   "cell_type": "code",
   "execution_count": 7,
   "id": "6aa56762",
   "metadata": {
    "execution": {
     "iopub.execute_input": "2024-06-21T08:06:59.058527Z",
     "iopub.status.busy": "2024-06-21T08:06:59.058112Z",
     "iopub.status.idle": "2024-06-21T08:06:59.065281Z",
     "shell.execute_reply": "2024-06-21T08:06:59.064178Z"
    },
    "papermill": {
     "duration": 0.017815,
     "end_time": "2024-06-21T08:06:59.067829",
     "exception": false,
     "start_time": "2024-06-21T08:06:59.050014",
     "status": "completed"
    },
    "tags": []
   },
   "outputs": [
    {
     "data": {
      "text/plain": [
       "(400000, 4)"
      ]
     },
     "execution_count": 7,
     "metadata": {},
     "output_type": "execute_result"
    }
   ],
   "source": [
    "sampled_df.shape"
   ]
  },
  {
   "cell_type": "code",
   "execution_count": 8,
   "id": "8d72c110",
   "metadata": {
    "execution": {
     "iopub.execute_input": "2024-06-21T08:06:59.083905Z",
     "iopub.status.busy": "2024-06-21T08:06:59.083416Z",
     "iopub.status.idle": "2024-06-21T08:06:59.092075Z",
     "shell.execute_reply": "2024-06-21T08:06:59.090688Z"
    },
    "papermill": {
     "duration": 0.01987,
     "end_time": "2024-06-21T08:06:59.094639",
     "exception": false,
     "start_time": "2024-06-21T08:06:59.074769",
     "status": "completed"
    },
    "tags": []
   },
   "outputs": [
    {
     "data": {
      "text/plain": [
       "(10000038, 4)"
      ]
     },
     "execution_count": 8,
     "metadata": {},
     "output_type": "execute_result"
    }
   ],
   "source": [
    "train_df.shape"
   ]
  },
  {
   "cell_type": "code",
   "execution_count": 9,
   "id": "7180530b",
   "metadata": {
    "execution": {
     "iopub.execute_input": "2024-06-21T08:06:59.111004Z",
     "iopub.status.busy": "2024-06-21T08:06:59.110546Z",
     "iopub.status.idle": "2024-06-21T08:06:59.773911Z",
     "shell.execute_reply": "2024-06-21T08:06:59.772650Z"
    },
    "papermill": {
     "duration": 0.674794,
     "end_time": "2024-06-21T08:06:59.776830",
     "exception": false,
     "start_time": "2024-06-21T08:06:59.102036",
     "status": "completed"
    },
    "tags": []
   },
   "outputs": [],
   "source": [
    "from surprise.model_selection import GridSearchCV\n",
    "from surprise import SVD\n",
    "from surprise import Dataset\n",
    "from surprise import Reader\n",
    "\n",
    "# Define the Reader with rating scale\n",
    "reader = Reader(rating_scale=(0.5, 5))\n",
    "\n",
    "# Load data from DataFrame\n",
    "data = Dataset.load_from_df(sampled_df[['userId', 'movieId', 'rating']], reader)\n",
    "\n"
   ]
  },
  {
   "cell_type": "code",
   "execution_count": 10,
   "id": "87c5d8e9",
   "metadata": {
    "execution": {
     "iopub.execute_input": "2024-06-21T08:06:59.793720Z",
     "iopub.status.busy": "2024-06-21T08:06:59.793219Z",
     "iopub.status.idle": "2024-06-21T08:07:01.397857Z",
     "shell.execute_reply": "2024-06-21T08:07:01.396475Z"
    },
    "papermill": {
     "duration": 1.616627,
     "end_time": "2024-06-21T08:07:01.400860",
     "exception": false,
     "start_time": "2024-06-21T08:06:59.784233",
     "status": "completed"
    },
    "tags": []
   },
   "outputs": [],
   "source": [
    "from surprise.model_selection import train_test_split, cross_validate\n",
    "trainset, testset = train_test_split(data, test_size=0.05)"
   ]
  },
  {
   "cell_type": "code",
   "execution_count": 11,
   "id": "b6e96ad9",
   "metadata": {
    "execution": {
     "iopub.execute_input": "2024-06-21T08:07:01.417102Z",
     "iopub.status.busy": "2024-06-21T08:07:01.416636Z",
     "iopub.status.idle": "2024-06-21T08:18:01.213515Z",
     "shell.execute_reply": "2024-06-21T08:18:01.212163Z"
    },
    "papermill": {
     "duration": 659.813974,
     "end_time": "2024-06-21T08:18:01.222070",
     "exception": false,
     "start_time": "2024-06-21T08:07:01.408096",
     "status": "completed"
    },
    "tags": []
   },
   "outputs": [
    {
     "data": {
      "text/plain": [
       "<surprise.prediction_algorithms.matrix_factorization.SVD at 0x7eeb7458e200>"
      ]
     },
     "execution_count": 11,
     "metadata": {},
     "output_type": "execute_result"
    }
   ],
   "source": [
    "param_grid = {\n",
    "    'n_factors': [50, 100, 150],\n",
    "    'lr_all': [0.002, 0.005, 0.01],\n",
    "    'reg_all': [0.02, 0.1, 0.2]\n",
    "}\n",
    "\n",
    "# Perform grid search\n",
    "gs = GridSearchCV(SVD, param_grid, measures=['rmse'], cv=3)\n",
    "gs.fit(data)\n",
    "\n",
    "# Use the best parameters to train the final model\n",
    "algo = gs.best_estimator['rmse']\n",
    "algo.fit(trainset)"
   ]
  },
  {
   "cell_type": "code",
   "execution_count": 12,
   "id": "559650dc",
   "metadata": {
    "execution": {
     "iopub.execute_input": "2024-06-21T08:18:01.238639Z",
     "iopub.status.busy": "2024-06-21T08:18:01.238179Z",
     "iopub.status.idle": "2024-06-21T08:18:42.660244Z",
     "shell.execute_reply": "2024-06-21T08:18:42.659114Z"
    },
    "papermill": {
     "duration": 41.440398,
     "end_time": "2024-06-21T08:18:42.669912",
     "exception": false,
     "start_time": "2024-06-21T08:18:01.229514",
     "status": "completed"
    },
    "tags": []
   },
   "outputs": [
    {
     "name": "stdout",
     "output_type": "stream",
     "text": [
      "Evaluating RMSE of algorithm SVD on 5 split(s).\n",
      "\n",
      "                  Fold 1  Fold 2  Fold 3  Fold 4  Fold 5  Mean    Std     \n",
      "RMSE (testset)    0.9219  0.9270  0.9307  0.9281  0.9262  0.9268  0.0029  \n",
      "Fit time          5.70    5.84    6.02    5.90    5.71    5.83    0.12    \n",
      "Test time         1.16    0.79    1.18    1.16    0.81    1.02    0.18    \n"
     ]
    },
    {
     "data": {
      "text/plain": [
       "{'test_rmse': array([0.921871  , 0.92695953, 0.93070032, 0.92813422, 0.92624576]),\n",
       " 'fit_time': (5.69867730140686,\n",
       "  5.842838525772095,\n",
       "  6.02089786529541,\n",
       "  5.897389888763428,\n",
       "  5.714192867279053),\n",
       " 'test_time': (1.1600472927093506,\n",
       "  0.789975643157959,\n",
       "  1.1757278442382812,\n",
       "  1.1574304103851318,\n",
       "  0.8128681182861328)}"
      ]
     },
     "execution_count": 12,
     "metadata": {},
     "output_type": "execute_result"
    }
   ],
   "source": [
    "# Initialize the SVD algorithm\n",
    "#algo = SVD()\n",
    "\n",
    "# Train the algorithm on the trainset, and evaluate on the testset\n",
    "#algo.fit(trainset)\n",
    "\n",
    "# Evaluate the model using cross-validation\n",
    "#cross_validate(algo, data, measures=['RMSE'], cv=3, verbose=True)\n",
    "\n",
    "cross_validate(algo, data, measures=['RMSE'], cv=5, verbose=True)\n"
   ]
  },
  {
   "cell_type": "code",
   "execution_count": 13,
   "id": "d409bd39",
   "metadata": {
    "execution": {
     "iopub.execute_input": "2024-06-21T08:18:42.686473Z",
     "iopub.status.busy": "2024-06-21T08:18:42.686075Z",
     "iopub.status.idle": "2024-06-21T08:24:18.247132Z",
     "shell.execute_reply": "2024-06-21T08:24:18.245747Z"
    },
    "papermill": {
     "duration": 335.57287,
     "end_time": "2024-06-21T08:24:18.250140",
     "exception": false,
     "start_time": "2024-06-21T08:18:42.677270",
     "status": "completed"
    },
    "tags": []
   },
   "outputs": [],
   "source": [
    "# Prepare the test data\n",
    "testset_for_predictions = [(row['userId'], row['movieId'], 0) for _, row in test_df.iterrows()]\n",
    "\n",
    "# Predict ratings for the test data\n",
    "predictions = algo.test(testset_for_predictions)\n",
    "\n",
    "# Prepare the submission file\n",
    "submission = pd.DataFrame([(f\"{int(pred.uid)}_{int(pred.iid)}\", pred.est) for pred in predictions], columns=['Id', 'rating'])\n"
   ]
  },
  {
   "cell_type": "code",
   "execution_count": 14,
   "id": "9ef72b97",
   "metadata": {
    "execution": {
     "iopub.execute_input": "2024-06-21T08:24:18.267466Z",
     "iopub.status.busy": "2024-06-21T08:24:18.266504Z",
     "iopub.status.idle": "2024-06-21T08:24:18.278837Z",
     "shell.execute_reply": "2024-06-21T08:24:18.277690Z"
    },
    "papermill": {
     "duration": 0.023556,
     "end_time": "2024-06-21T08:24:18.281381",
     "exception": false,
     "start_time": "2024-06-21T08:24:18.257825",
     "status": "completed"
    },
    "tags": []
   },
   "outputs": [
    {
     "data": {
      "text/html": [
       "<div>\n",
       "<style scoped>\n",
       "    .dataframe tbody tr th:only-of-type {\n",
       "        vertical-align: middle;\n",
       "    }\n",
       "\n",
       "    .dataframe tbody tr th {\n",
       "        vertical-align: top;\n",
       "    }\n",
       "\n",
       "    .dataframe thead th {\n",
       "        text-align: right;\n",
       "    }\n",
       "</style>\n",
       "<table border=\"1\" class=\"dataframe\">\n",
       "  <thead>\n",
       "    <tr style=\"text-align: right;\">\n",
       "      <th></th>\n",
       "      <th>Id</th>\n",
       "      <th>rating</th>\n",
       "    </tr>\n",
       "  </thead>\n",
       "  <tbody>\n",
       "    <tr>\n",
       "      <th>0</th>\n",
       "      <td>1_2011</td>\n",
       "      <td>3.677069</td>\n",
       "    </tr>\n",
       "    <tr>\n",
       "      <th>1</th>\n",
       "      <td>1_4144</td>\n",
       "      <td>4.043634</td>\n",
       "    </tr>\n",
       "    <tr>\n",
       "      <th>2</th>\n",
       "      <td>1_5767</td>\n",
       "      <td>3.532027</td>\n",
       "    </tr>\n",
       "    <tr>\n",
       "      <th>3</th>\n",
       "      <td>1_6711</td>\n",
       "      <td>3.740250</td>\n",
       "    </tr>\n",
       "    <tr>\n",
       "      <th>4</th>\n",
       "      <td>1_7318</td>\n",
       "      <td>3.328615</td>\n",
       "    </tr>\n",
       "  </tbody>\n",
       "</table>\n",
       "</div>"
      ],
      "text/plain": [
       "       Id    rating\n",
       "0  1_2011  3.677069\n",
       "1  1_4144  4.043634\n",
       "2  1_5767  3.532027\n",
       "3  1_6711  3.740250\n",
       "4  1_7318  3.328615"
      ]
     },
     "execution_count": 14,
     "metadata": {},
     "output_type": "execute_result"
    }
   ],
   "source": [
    "submission.head()"
   ]
  },
  {
   "cell_type": "code",
   "execution_count": 15,
   "id": "b6a235ac",
   "metadata": {
    "execution": {
     "iopub.execute_input": "2024-06-21T08:24:18.299024Z",
     "iopub.status.busy": "2024-06-21T08:24:18.298614Z",
     "iopub.status.idle": "2024-06-21T08:24:34.807456Z",
     "shell.execute_reply": "2024-06-21T08:24:34.805674Z"
    },
    "papermill": {
     "duration": 16.521988,
     "end_time": "2024-06-21T08:24:34.811130",
     "exception": false,
     "start_time": "2024-06-21T08:24:18.289142",
     "status": "completed"
    },
    "tags": []
   },
   "outputs": [],
   "source": [
    "submission.to_csv('Submission1.csv', index=False)"
   ]
  },
  {
   "cell_type": "code",
   "execution_count": 16,
   "id": "4bfa7ae1",
   "metadata": {
    "execution": {
     "iopub.execute_input": "2024-06-21T08:24:34.831679Z",
     "iopub.status.busy": "2024-06-21T08:24:34.831232Z",
     "iopub.status.idle": "2024-06-21T08:24:34.842263Z",
     "shell.execute_reply": "2024-06-21T08:24:34.840726Z"
    },
    "papermill": {
     "duration": 0.02518,
     "end_time": "2024-06-21T08:24:34.845524",
     "exception": false,
     "start_time": "2024-06-21T08:24:34.820344",
     "status": "completed"
    },
    "tags": []
   },
   "outputs": [
    {
     "data": {
      "text/plain": [
       "(5000019, 2)"
      ]
     },
     "execution_count": 16,
     "metadata": {},
     "output_type": "execute_result"
    }
   ],
   "source": [
    "submission.shape"
   ]
  }
 ],
 "metadata": {
  "kaggle": {
   "accelerator": "none",
   "dataSources": [
    {
     "databundleVersionId": 8778365,
     "sourceId": 81285,
     "sourceType": "competition"
    }
   ],
   "dockerImageVersionId": 30732,
   "isGpuEnabled": false,
   "isInternetEnabled": false,
   "language": "python",
   "sourceType": "notebook"
  },
  "kernelspec": {
   "display_name": "Python 3",
   "language": "python",
   "name": "python3"
  },
  "language_info": {
   "codemirror_mode": {
    "name": "ipython",
    "version": 3
   },
   "file_extension": ".py",
   "mimetype": "text/x-python",
   "name": "python",
   "nbconvert_exporter": "python",
   "pygments_lexer": "ipython3",
   "version": "3.10.13"
  },
  "papermill": {
   "default_parameters": {},
   "duration": 1093.942996,
   "end_time": "2024-06-21T08:24:37.577790",
   "environment_variables": {},
   "exception": null,
   "input_path": "__notebook__.ipynb",
   "output_path": "__notebook__.ipynb",
   "parameters": {},
   "start_time": "2024-06-21T08:06:23.634794",
   "version": "2.5.0"
  }
 },
 "nbformat": 4,
 "nbformat_minor": 5
}
